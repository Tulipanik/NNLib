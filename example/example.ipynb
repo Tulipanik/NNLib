{
 "cells": [
  {
   "cell_type": "code",
   "execution_count": 2,
   "id": "7014df9c",
   "metadata": {},
   "outputs": [],
   "source": [
    "using Revise\n",
    "using NNLib\n",
    "using JLD2\n",
    "\n",
    "X_train = load(\"data/imdb_dataset_prepared.jld2\", \"X_train\")\n",
    "y_train = load(\"data/imdb_dataset_prepared.jld2\", \"y_train\")\n",
    "X_test = load(\"data/imdb_dataset_prepared.jld2\", \"X_test\")\n",
    "y_test = load(\"data/imdb_dataset_prepared.jld2\", \"y_test\")\n",
    "nothing\n"
   ]
  },
  {
   "cell_type": "code",
   "execution_count": 3,
   "id": "8f040d92",
   "metadata": {},
   "outputs": [],
   "source": [
    "model = Chain([Dense(size(X_train, 1), 32, σ=ReLU), Dense(32, 1, σ=Sigmoid)])\n",
    "\n",
    "loss(m, x, y) = mse_loss(m(x), y)\n",
    "opt = Adam()\n",
    "nothing"
   ]
  },
  {
   "cell_type": "code",
   "execution_count": 4,
   "id": "2f340460",
   "metadata": {},
   "outputs": [
    {
     "name": "stdout",
     "output_type": "stream",
     "text": [
      "Starting process of learning...\n",
      "Epoch: 1 (16.03s) \tTrain: (l: 0.09, a: 0.85) \tTest: (l: 0.07, a: 0.82)\n",
      "Epoch: 2 (7.87s) \tTrain: (l: 0.03, a: 0.94) \tTest: (l: 0.06, a: 0.84)\n",
      "Epoch: 3 (7.96s) \tTrain: (l: 0.01, a: 0.97) \tTest: (l: 0.07, a: 0.85)\n",
      "Epoch: 4 (8.06s) \tTrain: (l: 0.01, a: 0.97) \tTest: (l: 0.07, a: 0.83)\n",
      "Epoch: 5 (8.00s) \tTrain: (l: 0.01, a: 0.98) \tTest: (l: 0.08, a: 0.83)\n",
      "Finishing process of learning\n"
     ]
    }
   ],
   "source": [
    "train!(model, X_train, y_train, X_test, y_test, loss, opt)"
   ]
  }
 ],
 "metadata": {
  "kernelspec": {
   "display_name": "Julia 1.11.5",
   "language": "julia",
   "name": "julia-1.11"
  },
  "language_info": {
   "file_extension": ".jl",
   "mimetype": "application/julia",
   "name": "julia",
   "version": "1.11.5"
  }
 },
 "nbformat": 4,
 "nbformat_minor": 5
}
